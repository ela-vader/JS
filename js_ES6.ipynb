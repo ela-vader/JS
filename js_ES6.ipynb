{
  "nbformat": 4,
  "nbformat_minor": 0,
  "metadata": {
    "colab": {
      "name": "js_ES6.ipynb",
      "provenance": [],
      "collapsed_sections": [],
      "authorship_tag": "ABX9TyNVsu6kdk+M2bJcMlvxiHwM",
      "include_colab_link": true
    },
    "kernelspec": {
      "name": "python3",
      "display_name": "Python 3"
    },
    "language_info": {
      "name": "python"
    }
  },
  "cells": [
    {
      "cell_type": "markdown",
      "metadata": {
        "id": "view-in-github",
        "colab_type": "text"
      },
      "source": [
        "<a href=\"https://colab.research.google.com/github/ela-vader/JS/blob/master/js_ES6.ipynb\" target=\"_parent\"><img src=\"https://colab.research.google.com/assets/colab-badge.svg\" alt=\"Open In Colab\"/></a>"
      ]
    },
    {
      "cell_type": "code",
      "metadata": {
        "colab": {
          "base_uri": "https://localhost:8080/",
          "height": 17
        },
        "id": "xWNmJJlvBSXU",
        "outputId": "8ba86634-afec-4c46-f025-77f841d384f8"
      },
      "source": [
        "%%javascript\n",
        "\n",
        "const source = [1,2,3,4,5,6,7,8,9,10];\n",
        "function removeFirstTwo(list) {\n",
        "  // Only change code below this line\n",
        "  const arr = [a,b, ...arr]; // Change this line\n",
        "  // Only change code above this line\n",
        "  return arr;\n",
        "}\n",
        "const arr = removeFirstTwo(source);\n",
        "\n",
        "console.log(arr)"
      ],
      "execution_count": null,
      "outputs": [
        {
          "output_type": "display_data",
          "data": {
            "application/javascript": [
              "\n",
              "const source = [1,2,3,4,5,6,7,8,9,10];\n",
              "function removeFirstTwo(list) {\n",
              "  // Only change code below this line\n",
              "  const arr = [a,b, ...arr]; // Change this line\n",
              "  // Only change code above this line\n",
              "  return arr;\n",
              "}\n",
              "const arr = removeFirstTwo(source);\n",
              "\n",
              "console.log(arr)"
            ],
            "text/plain": [
              "<IPython.core.display.Javascript object>"
            ]
          },
          "metadata": {}
        }
      ]
    },
    {
      "cell_type": "code",
      "metadata": {
        "colab": {
          "base_uri": "https://localhost:8080/",
          "height": 17
        },
        "id": "T_5XtQvHBcTn",
        "outputId": "dc934cdb-c264-4385-cb93-fb4fac0f2bd5"
      },
      "source": [
        "%%javascript\n",
        "\n",
        "const source = [1,2,3,4,5,6,7,8,9,10];\n",
        "console.log(source[0]);"
      ],
      "execution_count": null,
      "outputs": [
        {
          "output_type": "display_data",
          "data": {
            "application/javascript": [
              "\n",
              "const source = [1,2,3,4,5,6,7,8,9,10];\n",
              "console.log(source[0]);"
            ],
            "text/plain": [
              "<IPython.core.display.Javascript object>"
            ]
          },
          "metadata": {}
        }
      ]
    },
    {
      "cell_type": "code",
      "metadata": {
        "colab": {
          "base_uri": "https://localhost:8080/",
          "height": 17
        },
        "id": "prkYvmzGCWG4",
        "outputId": "dbc1ecc9-6dca-4c21-e887-8ca84961547b"
      },
      "source": [
        "%%javascript\n",
        "const source = [1,2,3,4,5,6,7,8,9,10];\n",
        "function removeFirstTwo(list) {\n",
        "  // Only change code below this line\n",
        "  const [a,b, ...arr] = list; // Change this line\n",
        "  // Only change code above this line\n",
        "  return arr;\n",
        "}\n",
        "const arr = removeFirstTwo(source);\n",
        "console.log(arr)"
      ],
      "execution_count": null,
      "outputs": [
        {
          "output_type": "display_data",
          "data": {
            "application/javascript": [
              "const source = [1,2,3,4,5,6,7,8,9,10];\n",
              "function removeFirstTwo(list) {\n",
              "  // Only change code below this line\n",
              "  const [a,b, ...arr] = list; // Change this line\n",
              "  // Only change code above this line\n",
              "  return arr;\n",
              "}\n",
              "const arr = removeFirstTwo(source);\n",
              "console.log(arr)"
            ],
            "text/plain": [
              "<IPython.core.display.Javascript object>"
            ]
          },
          "metadata": {}
        }
      ]
    },
    {
      "cell_type": "code",
      "metadata": {
        "id": "5aA_3FZvDBCx",
        "colab": {
          "base_uri": "https://localhost:8080/",
          "height": 17
        },
        "outputId": "6d0158af-2506-49c2-8251-4b79d5463789"
      },
      "source": [
        "%%javascript\n",
        "// Only change code below this line\n",
        "class Thermostat {\n",
        "  constructor(fahrenheit) {\n",
        "    this.fahrenheit = fahrenheit\n",
        "  }\n",
        "  //getter to convert temp to cel\n",
        "  get temperature() {\n",
        "    return (5/9) * (this.fahrenheit - 32);\n",
        "  }\n",
        "\n",
        "  set temperature(celsius) {\n",
        "    this.fahrenheit = (celsius * 9.0) / 5 + 32; \n",
        "\n",
        "  } \n",
        "}\n",
        "// Only change code above this line\n",
        "\n",
        "const thermos = new Thermostat(76); // Setting in Fahrenheit scale\n",
        "let temp = thermos.temperature; // 24.44 in Celsius\n",
        "thermos.temperature = 26;\n",
        "temp = thermos.temperature; // 26 in Celsius\n",
        "console.log(temp);"
      ],
      "execution_count": 17,
      "outputs": [
        {
          "output_type": "display_data",
          "data": {
            "application/javascript": [
              "// Only change code below this line\n",
              "class Thermostat {\n",
              "  constructor(fahrenheit) {\n",
              "    this.fahrenheit = fahrenheit\n",
              "  }\n",
              "  //getter to convert temp to cel\n",
              "  get temperature() {\n",
              "    return (5/9) * (this.fahrenheit - 32);\n",
              "  }\n",
              "\n",
              "  set temperature(celsius) {\n",
              "    this.fahrenheit = (celsius * 9.0) / 5 + 32; \n",
              "\n",
              "  } \n",
              "}\n",
              "// Only change code above this line\n",
              "\n",
              "const thermos = new Thermostat(76); // Setting in Fahrenheit scale\n",
              "let temp = thermos.temperature; // 24.44 in Celsius\n",
              "thermos.temperature = 26;\n",
              "temp = thermos.temperature; // 26 in Celsius\n",
              "console.log(temp);"
            ],
            "text/plain": [
              "<IPython.core.display.Javascript object>"
            ]
          },
          "metadata": {}
        }
      ]
    },
    {
      "cell_type": "markdown",
      "metadata": {
        "id": "KXrTHrm-X68U"
      },
      "source": [
        "#ES6 Javascript\n",
        "\n",
        "##Compare Scopes of the var and let Keywords\n",
        "\n",
        "When you declare a variable with the var keyword, it is declared globally, or locally if declared inside a function.\n",
        "\n",
        "When you declare a variable with the let keyword inside a block, statement, or expression, its scope is limited to that block, statement, or expression.\n",
        "\n",
        "Heres an example of variable scope using the var keyword:"
      ]
    },
    {
      "cell_type": "code",
      "metadata": {
        "colab": {
          "base_uri": "https://localhost:8080/",
          "height": 17
        },
        "id": "8YCPU0NtTE9i",
        "outputId": "4443f79f-aaec-49bc-b51f-3fca11ace157"
      },
      "source": [
        "%%javascript \n",
        "function checkScope() {\n",
        "  var i = 'function scope';\n",
        "  if (true) {\n",
        "    i = 'block scope';\n",
        "    console.log('Block scope i is: ', i);\n",
        "  }\n",
        "  console.log('Function scope i is: ', i);\n",
        "  return i;\n",
        "}\n",
        "\n",
        " checkScope(true);\n",
        " // returns both i as block scope for both the block and the function "
      ],
      "execution_count": 23,
      "outputs": [
        {
          "output_type": "display_data",
          "data": {
            "application/javascript": [
              "function checkScope() {\n",
              "  var i = 'function scope';\n",
              "  if (true) {\n",
              "    i = 'block scope';\n",
              "    console.log('Block scope i is: ', i);\n",
              "  }\n",
              "  console.log('Function scope i is: ', i);\n",
              "  return i;\n",
              "}\n",
              "\n",
              " checkScope(true);"
            ],
            "text/plain": [
              "<IPython.core.display.Javascript object>"
            ]
          },
          "metadata": {}
        }
      ]
    },
    {
      "cell_type": "markdown",
      "metadata": {
        "id": "9328HrYPab9P"
      },
      "source": [
        "Heres an example of variable scope using the var keyword:"
      ]
    },
    {
      "cell_type": "code",
      "metadata": {
        "id": "FLoZNTHeX3wF"
      },
      "source": [
        "%%javascript\n",
        "function checkScope() {\n",
        "  let i = 'function scope';\n",
        "  if (true) {\n",
        "    let i = 'block scope';\n",
        "    console.log('Block scope i is: ', i);\n",
        "  }\n",
        "  console.log('Function scope i is: ', i);\n",
        "  return i;\n",
        "}\n",
        "\n",
        " checkScope(true);\n",
        " // returns i in relative scope as both block and function"
      ],
      "execution_count": null,
      "outputs": []
    },
    {
      "cell_type": "markdown",
      "metadata": {
        "id": "-53v1suRadyV"
      },
      "source": [
        "##Mutate an Array Declared with const\n",
        "\n",
        "The \"const\" declaration has many use cases in modern JavaScript.\n",
        "\n",
        "Some developers prefer to assign all their variables using const by default, unless they know they will need to reassign the value. Only in that case, they use let.\n",
        "\n",
        "However, it is important to understand that objects (including arrays and functions) assigned to a variable using const are still mutable(can be editied). Using the const declaration only prevents reassignment of the variable identifier."
      ]
    },
    {
      "cell_type": "code",
      "metadata": {
        "colab": {
          "base_uri": "https://localhost:8080/",
          "height": 17
        },
        "id": "W9AlYfSgX32N",
        "outputId": "a03fc94b-64f3-4bd4-9cb6-072a84af09c9"
      },
      "source": [
        "%%javascript\n",
        "\n",
        "const s = [5, 7, 2];\n",
        "function editInPlace() {\n",
        "  // Only change code below this line\n",
        "\n",
        "  // Using s = [2, 5, 7] would be invalid\n",
        "  s[0] = 2;\n",
        "  s[1] = 5;\n",
        "  s[2] = 7;\n",
        "  console.log(s)\n",
        "  // Only change code above this line\n",
        "}\n",
        "editInPlace(s); \n",
        "//changes values in array is to 2,5 and 7 "
      ],
      "execution_count": 27,
      "outputs": [
        {
          "output_type": "display_data",
          "data": {
            "application/javascript": [
              "\n",
              "const s = [5, 7, 2];\n",
              "function editInPlace() {\n",
              "  // Only change code below this line\n",
              "\n",
              "  // Using s = [2, 5, 7] would be invalid\n",
              "  s[0] = 2;\n",
              "  s[1] = 5;\n",
              "  s[2] = 7;\n",
              "  console.log(s)\n",
              "  // Only change code above this line\n",
              "}\n",
              "editInPlace(s);"
            ],
            "text/plain": [
              "<IPython.core.display.Javascript object>"
            ]
          },
          "metadata": {}
        }
      ]
    },
    {
      "cell_type": "markdown",
      "metadata": {
        "id": "EhmHzFnEcFtq"
      },
      "source": [
        "##Prevent Object Mutation\n",
        "\n",
        "As seen in the previous challenge, const declaration alone doesn't really protect your data from mutation. To ensure your data doesn't change, use the Object.freeze() function to prevent data mutation.\n",
        "\n",
        "Any attempt at changing the object will be rejected, with an error thrown if the script is running in strict mode.\n"
      ]
    },
    {
      "cell_type": "code",
      "metadata": {
        "colab": {
          "base_uri": "https://localhost:8080/",
          "height": 17
        },
        "id": "6XR4DkkZX38k",
        "outputId": "e0ee09dc-2562-485d-a429-e7cc649c9d61"
      },
      "source": [
        "%%javascript\n",
        "'use strict'\n",
        "\n",
        "function freezeObj() {\n",
        "  const MATH_CONSTANTS = {\n",
        "    PI: 3.14\n",
        "  };\n",
        "  // Only change code below this line\n",
        "  Object.freeze(MATH_CONSTANTS);// freezes object MATH_CONSTANTS\n",
        "\n",
        "  // Only change code above this line\n",
        "  try {\n",
        "    MATH_CONSTANTS.PI = 99; //tests object to see if we can change it\n",
        "  } catch(ex) {\n",
        "    console.log(ex);\n",
        "  }\n",
        "  return MATH_CONSTANTS.PI;\n",
        "}\n",
        "const PI = freezeObj();\n",
        "\n",
        "console.log(PI)// returns 3.14"
      ],
      "execution_count": 29,
      "outputs": [
        {
          "output_type": "display_data",
          "data": {
            "application/javascript": [
              "'use strict'\n",
              "\n",
              "function freezeObj() {\n",
              "  const MATH_CONSTANTS = {\n",
              "    PI: 3.14\n",
              "  };\n",
              "  // Only change code below this line\n",
              "  Object.freeze(MATH_CONSTANTS);\n",
              "\n",
              "  // Only change code above this line\n",
              "  try {\n",
              "    MATH_CONSTANTS.PI = 99;\n",
              "  } catch(ex) {\n",
              "    console.log(ex);\n",
              "  }\n",
              "  return MATH_CONSTANTS.PI;\n",
              "}\n",
              "const PI = freezeObj();\n",
              "\n",
              "console.log(PI)"
            ],
            "text/plain": [
              "<IPython.core.display.Javascript object>"
            ]
          },
          "metadata": {}
        }
      ]
    },
    {
      "cell_type": "markdown",
      "metadata": {
        "id": "_FSbTPPAePZc"
      },
      "source": [
        "##Use Arrow Functions to Write Concise Anonymous Functions\n",
        "\n",
        "we often don't need to name our functions, especially when passing a function as an argument to another function. Instead, we create inline functions. We don't need to name these functions because we do not reuse them anywhere else.\n",
        "\n",
        "Here is an ES5 example of an anonymous function:"
      ]
    },
    {
      "cell_type": "code",
      "metadata": {
        "colab": {
          "base_uri": "https://localhost:8080/",
          "height": 17
        },
        "id": "0IcZZmlRX4Bw",
        "outputId": "891af387-5c03-4a21-a5ea-36ecbcf2280f"
      },
      "source": [
        "%%javascript\n",
        "\n",
        "const myFunc = function() {\n",
        "  const myVar = \"value\";\n",
        "  return myVar;\n",
        "}\n",
        "console.log(myFunc);"
      ],
      "execution_count": 33,
      "outputs": [
        {
          "output_type": "display_data",
          "data": {
            "application/javascript": [
              "\n",
              "const myFunc = function() {\n",
              "  const myVar = \"value\";\n",
              "  return myVar;\n",
              "}\n",
              "console.log(myFunc);"
            ],
            "text/plain": [
              "<IPython.core.display.Javascript object>"
            ]
          },
          "metadata": {}
        }
      ]
    },
    {
      "cell_type": "markdown",
      "metadata": {
        "id": "sFQHJP9-e3nT"
      },
      "source": [
        "Here is an ES6 example use arrow function syntax for the anonymous function"
      ]
    },
    {
      "cell_type": "code",
      "metadata": {
        "colab": {
          "base_uri": "https://localhost:8080/",
          "height": 17
        },
        "id": "vLlupyNOX4JD",
        "outputId": "63bbe01a-f62f-4d58-daf5-da8c97745e37"
      },
      "source": [
        "%%javascript\n",
        "\n",
        "const myFunc = () => {\n",
        "  const myVar = \"value\";\n",
        "  return myVar;\n",
        "}\n",
        "\n",
        "console.log(myFunc);"
      ],
      "execution_count": 32,
      "outputs": [
        {
          "output_type": "display_data",
          "data": {
            "application/javascript": [
              "\n",
              "const myFunc = () => {\n",
              "  const myVar = \"value\";\n",
              "  return myVar;\n",
              "}\n",
              "\n",
              "console.log(myFunc);"
            ],
            "text/plain": [
              "<IPython.core.display.Javascript object>"
            ]
          },
          "metadata": {}
        }
      ]
    },
    {
      "cell_type": "markdown",
      "metadata": {
        "id": "elcHFQiYfonV"
      },
      "source": [
        "When there is no function body, and only a return value, arrow function syntax allows you to omit the keyword return as well as the brackets surrounding the code. This helps simplify smaller functions into one-line statements:"
      ]
    },
    {
      "cell_type": "code",
      "metadata": {
        "colab": {
          "base_uri": "https://localhost:8080/",
          "height": 17
        },
        "id": "PmmB82mmX4sC",
        "outputId": "c663d7fc-3b48-41ae-b571-a8ea2003640f"
      },
      "source": [
        "%%javascript\n",
        "const myFunc = () => \"value\";\n",
        "console.log(myFunc);"
      ],
      "execution_count": 31,
      "outputs": [
        {
          "output_type": "display_data",
          "data": {
            "application/javascript": [
              "const myFunc = () => \"value\";\n",
              "console.log(myFunc);"
            ],
            "text/plain": [
              "<IPython.core.display.Javascript object>"
            ]
          },
          "metadata": {}
        }
      ]
    },
    {
      "cell_type": "markdown",
      "metadata": {
        "id": "onSSRefsgQ4g"
      },
      "source": [
        "Rewrite the function assigned to the variable magic which returns a new Date() to use arrow function syntax. Also, make sure nothing is defined using the keyword var.\n",
        "\n",
        "original:"
      ]
    },
    {
      "cell_type": "code",
      "metadata": {
        "colab": {
          "base_uri": "https://localhost:8080/",
          "height": 17
        },
        "id": "019STh4JX4yB",
        "outputId": "66736b79-092a-4989-deb4-d2b65c723499"
      },
      "source": [
        "%%javascript\n",
        "//original\n",
        "\n",
        "var magic = function() {\n",
        "  return new Date();\n",
        "};\n",
        "\n",
        "// new fucntion using arrow syntax\n",
        "const magic = () => new Date();"
      ],
      "execution_count": 34,
      "outputs": [
        {
          "output_type": "display_data",
          "data": {
            "application/javascript": [
              "//original\n",
              "\n",
              "var magic = function() {\n",
              "  return new Date();\n",
              "};\n",
              "\n",
              "// new fucntion using arrow syntax\n",
              "var magic = () => new Date();"
            ],
            "text/plain": [
              "<IPython.core.display.Javascript object>"
            ]
          },
          "metadata": {}
        }
      ]
    },
    {
      "cell_type": "markdown",
      "metadata": {
        "id": "i-xEqRz-g52R"
      },
      "source": [
        "##Write Arrow Functions with Parameters\n",
        "\n",
        "you can pass arguments into an arrow function.\n",
        "\n",
        "If an arrow function has a single parameter, the parentheses enclosing the parameter may be omitted."
      ]
    },
    {
      "cell_type": "code",
      "metadata": {
        "id": "fLGv4RfTggT4"
      },
      "source": [
        "%%javascript\n",
        "\n",
        "//Original\n",
        "var myConcat = function(arr1, arr2) {\n",
        "  return arr1.concat(arr2);\n",
        "};\n",
        "\n",
        "console.log(myConcat([1, 2], [3, 4, 5]));\n",
        "\n",
        "// new fucntion using arrow syntax\n",
        "const myConcat = (arr1, arr2) => arr1.concat(arr2);\n",
        "\n",
        "console.log(myConcat([1, 2], [3, 4, 5]));"
      ],
      "execution_count": null,
      "outputs": []
    },
    {
      "cell_type": "markdown",
      "metadata": {
        "id": "SfR8OAIfhcPi"
      },
      "source": [
        "##Set Default Parameters for Your Functions\n",
        "\n",
        "In order to help us create more flexible functions, ES6 introduces default parameters for functions.\n",
        "\n",
        "The default parameter is passed as an arguement when the argument is not specified (it is undefined)."
      ]
    },
    {
      "cell_type": "code",
      "metadata": {
        "colab": {
          "base_uri": "https://localhost:8080/",
          "height": 17
        },
        "id": "7SoJmMPkhyL1",
        "outputId": "e5491cf4-d2d6-43c7-e4e8-73863c2d6972"
      },
      "source": [
        "%%javascript\n",
        "//without default param\n",
        "const increment = (number, value) => number + value;\n",
        "console.log(increment(5, 6));"
      ],
      "execution_count": 39,
      "outputs": [
        {
          "output_type": "display_data",
          "data": {
            "application/javascript": [
              "//without default param\n",
              "const increment = (number, value) => number + value;\n",
              "console.log(increment(5, 6));"
            ],
            "text/plain": [
              "<IPython.core.display.Javascript object>"
            ]
          },
          "metadata": {}
        }
      ]
    },
    {
      "cell_type": "code",
      "metadata": {
        "colab": {
          "base_uri": "https://localhost:8080/",
          "height": 17
        },
        "id": "Q1WV6Z9xi7a2",
        "outputId": "7e98fe11-8770-468d-b966-f29e36658190"
      },
      "source": [
        "%%javascript\n",
        "\n",
        "//with default param for value\n",
        "const increment = (number, value = 1) => number + value;\n",
        "console.log(increment(5, ));\n",
        "console.log(increment(7, undefined));"
      ],
      "execution_count": 43,
      "outputs": [
        {
          "output_type": "display_data",
          "data": {
            "application/javascript": [
              "\n",
              "//with default param for value\n",
              "const increment = (number, value = 1) => number + value;\n",
              "console.log(increment(5, ));\n",
              "console.log(increment(7, undefined));"
            ],
            "text/plain": [
              "<IPython.core.display.Javascript object>"
            ]
          },
          "metadata": {}
        }
      ]
    },
    {
      "cell_type": "markdown",
      "metadata": {
        "id": "HMi-zuABg5wT"
      },
      "source": [
        "## Use the Rest Parameter with Function Parameters\n",
        "\n",
        "With the rest parameter (...variable_name), you can create functions that take a variable number of arguments. These arguments are stored in an array that can be accessed later from inside the function.\n"
      ]
    },
    {
      "cell_type": "code",
      "metadata": {
        "colab": {
          "base_uri": "https://localhost:8080/",
          "height": 17
        },
        "id": "nMqDoYmTfMPG",
        "outputId": "ccfa6ed4-c5d1-4891-ee99-5cfe236abbbe"
      },
      "source": [
        "%%javascript\n",
        "//without rest parameter\n",
        "\n",
        "const sum = (x, y, z) => {\n",
        "  const args = [x, y, z];\n",
        "  return args.reduce((a, b) => a + b, 0);\n",
        "}\n",
        "\n",
        "//with rest perameter\n",
        "const sum = (...args) => {\n",
        "  return args.reduce((a, b) => a + b, 0);\n",
        "}\n",
        "\n",
        "console.log(sum(1,2,3,4))//10\n",
        "console.log(sum(1,2))//3"
      ],
      "execution_count": 48,
      "outputs": [
        {
          "output_type": "display_data",
          "data": {
            "application/javascript": [
              "const sum = (...args) => {\n",
              "  return args.reduce((a, b) => a + b, 0);\n",
              "}\n",
              "\n",
              "console.log(sum(1,2,3,4))\n",
              "console.log(sum(1,2))"
            ],
            "text/plain": [
              "<IPython.core.display.Javascript object>"
            ]
          },
          "metadata": {}
        }
      ]
    },
    {
      "cell_type": "markdown",
      "metadata": {
        "id": "WVnG9Ve7lVPf"
      },
      "source": [
        "##Use the Spread Operator to Evaluate Arrays In-Place * trry to think of a better example\n",
        "\n",
        "The Spread operator allows us to expand arrays and other expressions in places where multiple parameters or elements are expected."
      ]
    },
    {
      "cell_type": "code",
      "metadata": {
        "colab": {
          "base_uri": "https://localhost:8080/",
          "height": 17
        },
        "id": "s5EEuLTvX417",
        "outputId": "8bac984b-ec98-4ce8-f59b-ed179ecf3379"
      },
      "source": [
        "%%javascript\n",
        "const arr1 = ['JAN', 'FEB', 'MAR', 'APR', 'MAY'];\n",
        "let arr2;\n",
        "\n",
        "arr2 = [...arr1];  // Copies contents of arr1 to arr2\n",
        "\n",
        "console.log(arr2);"
      ],
      "execution_count": 49,
      "outputs": [
        {
          "output_type": "display_data",
          "data": {
            "application/javascript": [
              "const arr1 = ['JAN', 'FEB', 'MAR', 'APR', 'MAY'];\n",
              "let arr2;\n",
              "\n",
              "arr2 = [...arr1];  // Change this line\n",
              "\n",
              "console.log(arr2);"
            ],
            "text/plain": [
              "<IPython.core.display.Javascript object>"
            ]
          },
          "metadata": {}
        }
      ]
    },
    {
      "cell_type": "markdown",
      "metadata": {
        "id": "s5ipQ1cRmrnJ"
      },
      "source": [
        "##Use Destructuring Assignment to Extract Values from Objects\n",
        "\n",
        "Destructuring assignment is special syntax introduced in ES6, for neatly assigning values taken directly from an object.\n",
        "\n",
        "You can extract as many or few values from the object as you want.\n",
        "\n"
      ]
    },
    {
      "cell_type": "code",
      "metadata": {
        "colab": {
          "base_uri": "https://localhost:8080/",
          "height": 17
        },
        "id": "1mvAddFuX4-1",
        "outputId": "b60183e7-ecf2-429a-e546-e92b52fec70b"
      },
      "source": [
        "%%javascript\n",
        "//ES5  DestructuringSyntax\n",
        "const HIGH_TEMPERATURES = {\n",
        "  yesterday: 75,\n",
        "  today: 77,\n",
        "  tomorrow: 80\n",
        "};\n",
        "\n",
        "// Only change code below this line\n",
        "\n",
        "const today = HIGH_TEMPERATURES.today;\n",
        "const tomorrow = HIGH_TEMPERATURES.tomorrow;\n",
        "\n",
        "// Only change code above this line\n",
        "console.log(today, tomorrow)"
      ],
      "execution_count": 1,
      "outputs": [
        {
          "output_type": "display_data",
          "data": {
            "application/javascript": [
              "//ES5  DestructuringSyntax\n",
              "const HIGH_TEMPERATURES = {\n",
              "  yesterday: 75,\n",
              "  today: 77,\n",
              "  tomorrow: 80\n",
              "};\n",
              "\n",
              "// Only change code below this line\n",
              "\n",
              "const today = HIGH_TEMPERATURES.today;\n",
              "const tomorrow = HIGH_TEMPERATURES.tomorrow;\n",
              "\n",
              "// Only change code above this line\n",
              "console.log(today, tomorrow)"
            ],
            "text/plain": [
              "<IPython.core.display.Javascript object>"
            ]
          },
          "metadata": {}
        }
      ]
    },
    {
      "cell_type": "code",
      "metadata": {
        "colab": {
          "base_uri": "https://localhost:8080/",
          "height": 17
        },
        "id": "w82iuTO2X46W",
        "outputId": "3ebae5eb-4205-4bc7-8be6-872932bc2c9a"
      },
      "source": [
        "%%javascript\n",
        "//ES6 Destructuring Syntax\n",
        "const HIGH_TEMPERATURES = {\n",
        "  yesterday: 75,\n",
        "  today: 77,\n",
        "  tomorrow: 80\n",
        "};\n",
        "\n",
        "// Only change code below this line\n",
        "\n",
        "\n",
        "const {today, tomorrow } = HIGH_TEMPERATURES;\n",
        "\n",
        "// Only change code above this line"
      ],
      "execution_count": 3,
      "outputs": [
        {
          "output_type": "display_data",
          "data": {
            "application/javascript": [
              "//ES6 Destructuring Syntax\n",
              "const HIGH_TEMPERATURES = {\n",
              "  yesterday: 75,\n",
              "  today: 77,\n",
              "  tomorrow: 80\n",
              "};\n",
              "\n",
              "// Only change code below this line\n",
              "\n",
              "\n",
              "const {today, tomorrow } = HIGH_TEMPERATURES;\n",
              "\n",
              "// Only change code above this line"
            ],
            "text/plain": [
              "<IPython.core.display.Javascript object>"
            ]
          },
          "metadata": {}
        }
      ]
    },
    {
      "cell_type": "markdown",
      "metadata": {
        "id": "wipGLGpGo4ch"
      },
      "source": [
        "##Use Destructuring Assignment to Assign Variables from Objects\n",
        "\n",
        "Destructuring allows you to assign a new variable name when extracting values. You can do this by putting the new name after a colon when assigning the value."
      ]
    },
    {
      "cell_type": "code",
      "metadata": {
        "id": "RauAq9FHq9hB"
      },
      "source": [
        "%%javascript\n",
        "\n",
        "//ES5  Destructuring with varible assignments\n",
        "\n",
        "const HIGH_TEMPERATURES = {\n",
        "  yesterday: 75,\n",
        "  today: 77,\n",
        "  tomorrow: 80\n",
        "};\n",
        "\n",
        "// Only change code below this line\n",
        "  \n",
        "const highToday = HIGH_TEMPERATURES.today;\n",
        "const highTomorrow = HIGH_TEMPERATURES.tomorrow; \n",
        "\n",
        "// Only change code above this line"
      ],
      "execution_count": null,
      "outputs": []
    },
    {
      "cell_type": "code",
      "metadata": {
        "id": "Htr_fy05X5FQ"
      },
      "source": [
        "%%javascript\n",
        "//Destructuring with variable assignments\n",
        "const HIGH_TEMPERATURES = {\n",
        "  yesterday: 75,\n",
        "  today: 77,\n",
        "  tomorrow: 80\n",
        "};\n",
        "\n",
        "// Only change code below this line\n",
        "const {today: highToday, tomorrow: highTomorrow } = HIGH_TEMPERATURES;\n",
        "// Only change code above this line"
      ],
      "execution_count": null,
      "outputs": []
    },
    {
      "cell_type": "markdown",
      "metadata": {
        "id": "IrGqcZ5yqjia"
      },
      "source": [
        "water papertowel turkey"
      ]
    },
    {
      "cell_type": "markdown",
      "metadata": {
        "id": "L53DY7dDrbgR"
      },
      "source": [
        "##Use Destructuring Assignment to Assign Variables from Nested Objects\n",
        "\n",
        "You can use the same principles from the previous two lessons to destructure values from nested objects."
      ]
    },
    {
      "cell_type": "code",
      "metadata": {
        "id": "S-zBjNTNX5Jt"
      },
      "source": [
        "%%javascript\n",
        "//original\n",
        "//Nested Object\n",
        "\n",
        "const LOCAL_FORECAST = {\n",
        "  yesterday: { low: 61, high: 75 },\n",
        "  today: { low: 64, high: 77 },\n",
        "  tomorrow: { low: 68, high: 80 }\n",
        "};\n",
        "\n",
        "// Only change code below this line\n",
        "  \n",
        "const lowToday = LOCAL_FORECAST.today.low;\n",
        "const highToday = LOCAL_FORECAST.today.high;\n",
        "\n",
        "// Only change code above this line"
      ],
      "execution_count": null,
      "outputs": []
    },
    {
      "cell_type": "code",
      "metadata": {
        "colab": {
          "base_uri": "https://localhost:8080/",
          "height": 17
        },
        "id": "2uUGsRWrX5OT",
        "outputId": "be93375d-3646-454d-efd9-1e0f4342b055"
      },
      "source": [
        "%%javascript\n",
        "\n",
        "const LOCAL_FORECAST = {\n",
        "  yesterday: { low: 61, high: 75 },\n",
        "  today: { low: 64, high: 77 },\n",
        "  tomorrow: { low: 68, high: 80 }\n",
        "};\n",
        "\n",
        "// Only change code below this line\n",
        "  \n",
        "const {today: {low: lowToday, high: highToday }} = LOCAL_FORECAST;\n",
        "\n",
        "// Only change code above this line\n",
        "\n",
        "console.log(LOCAL_FORECAST);"
      ],
      "execution_count": 5,
      "outputs": [
        {
          "output_type": "display_data",
          "data": {
            "application/javascript": [
              "\n",
              "const LOCAL_FORECAST = {\n",
              "  yesterday: { low: 61, high: 75 },\n",
              "  today: { low: 64, high: 77 },\n",
              "  tomorrow: { low: 68, high: 80 }\n",
              "};\n",
              "\n",
              "// Only change code below this line\n",
              "  \n",
              "const {today: {low: lowToday, high: highToday }} = LOCAL_FORECAST;\n",
              "\n",
              "// Only change code above this line\n",
              "\n",
              "console.log(LOCAL_FORECAST);"
            ],
            "text/plain": [
              "<IPython.core.display.Javascript object>"
            ]
          },
          "metadata": {}
        }
      ]
    },
    {
      "cell_type": "markdown",
      "metadata": {
        "id": "e0yjLE_tq0hJ"
      },
      "source": [
        "##Use Destructuring Assignment to Assign Variables from Arrays\n",
        "\n",
        "ES6 makes destructuring arrays as easy as destructuring objects.\n",
        "\n",
        "One key difference between the spread operator and array destructuring is that the spread operator unpacks all contents of an array into a comma-separated list. Consequently, you cannot pick or choose which elements you want to assign to variables.\n",
        "\n",
        "Destructuring an array lets us do exactly that. Here we set up an array the reassign its vales usinf desructuring:"
      ]
    },
    {
      "cell_type": "code",
      "metadata": {
        "id": "N-jB26GGX5Si"
      },
      "source": [
        "%%javascript\n",
        "let a = 8, b = 6;\n",
        "// Only change code below this line\n",
        "[a, b] = [b,a]\n",
        "\n"
      ],
      "execution_count": null,
      "outputs": []
    },
    {
      "cell_type": "markdown",
      "metadata": {
        "id": "j6UK03_S_rlw"
      },
      "source": [
        "##Use Destructuring Assignment with the Rest Parameter to Reassign Array Elements\n",
        "\n",
        "In some situations involving array destructuring, we might want to collect the rest of the elements into a separate array.\n",
        "\n",
        "The result is similar to Array.prototype.slice()"
      ]
    },
    {
      "cell_type": "code",
      "metadata": {
        "colab": {
          "base_uri": "https://localhost:8080/",
          "height": 17
        },
        "id": "aIyy7h9yX5Wl",
        "outputId": "8c43aad4-7dca-4099-9503-eae5b9f41f9c"
      },
      "source": [
        "%%javascript\n",
        "const source = [1,2,3,4,5,6,7,8,9,10];\n",
        "const array_destruc = Array.prototype.slice(source);\n",
        "\n",
        "console.log(array_destruc);//[]"
      ],
      "execution_count": 7,
      "outputs": [
        {
          "output_type": "display_data",
          "data": {
            "application/javascript": [
              "const source = [1,2,3,4,5,6,7,8,9,10];\n",
              "const array_destruc = Array.prototype.slice(source);\n",
              "\n",
              "console.log(array_destruc);"
            ],
            "text/plain": [
              "<IPython.core.display.Javascript object>"
            ]
          },
          "metadata": {}
        }
      ]
    },
    {
      "cell_type": "markdown",
      "metadata": {
        "id": "Cbfi1NicA0p3"
      },
      "source": [
        ""
      ]
    },
    {
      "cell_type": "code",
      "metadata": {
        "colab": {
          "base_uri": "https://localhost:8080/",
          "height": 17
        },
        "id": "sdyBDU8VX5eJ",
        "outputId": "9d680738-a291-4db5-d31f-35777a66b734"
      },
      "source": [
        "%%javascript\n",
        "\n",
        "const source = [1,2,3,4,5,6,7,8,9,10];\n",
        "function removeFirstTwo(list) {\n",
        "  // Only change code below this line\n",
        "  const [a,b, ...arr] = list; // Change this line\n",
        "  // Only change code above this line\n",
        "  return arr;\n",
        "}\n",
        "const arr = removeFirstTwo(source);\n",
        "\n",
        "console.log(arr);//[3, 4, 5, 6, 7, 8, 9, 10]\n"
      ],
      "execution_count": 8,
      "outputs": [
        {
          "output_type": "display_data",
          "data": {
            "application/javascript": [
              "\n",
              "const source = [1,2,3,4,5,6,7,8,9,10];\n",
              "function removeFirstTwo(list) {\n",
              "  // Only change code below this line\n",
              "  const [a,b, ...arr] = list; // Change this line\n",
              "  // Only change code above this line\n",
              "  return arr;\n",
              "}\n",
              "const arr = removeFirstTwo(source);\n",
              "\n",
              "console.log(arr);"
            ],
            "text/plain": [
              "<IPython.core.display.Javascript object>"
            ]
          },
          "metadata": {}
        }
      ]
    },
    {
      "cell_type": "markdown",
      "metadata": {
        "id": "nP6OT2LUBGHk"
      },
      "source": [
        "##Use Destructuring Assignment to Pass an Object as a Function's Parameters\n",
        "\n",
        "In some cases, you can destructure the object in a function argument itself."
      ]
    },
    {
      "cell_type": "code",
      "metadata": {
        "id": "CdpTbeWkCLvG"
      },
      "source": [
        "%%javascript\n",
        "//original\n",
        "const stats = {\n",
        "  max: 56.78,\n",
        "  standard_deviation: 4.34,\n",
        "  median: 34.54,\n",
        "  mode: 23.87,\n",
        "  min: -0.75,\n",
        "  average: 35.85\n",
        "};\n",
        "\n",
        "// Only change code below this line\n",
        "const half = (stats) => (stats.max + stats.min) / 2.0; \n",
        "// Only change code above this line"
      ],
      "execution_count": null,
      "outputs": []
    },
    {
      "cell_type": "markdown",
      "metadata": {
        "id": "zhH7bWZaCQkp"
      },
      "source": [
        ""
      ]
    },
    {
      "cell_type": "code",
      "metadata": {
        "id": "3dZqsSvmX5jH"
      },
      "source": [
        "%%javascript\n",
        "\n",
        "//destructered to pass function parameters\n",
        "const stats = {\n",
        "  max: 56.78,\n",
        "  standard_deviation: 4.34,\n",
        "  median: 34.54,\n",
        "  mode: 23.87,\n",
        "  min: -0.75,\n",
        "  average: 35.85\n",
        "};\n",
        "\n",
        "// Only change code below this line\n",
        "const half = ({max, min}) => (max + min) / 2.0; \n",
        "// Only change code above this line"
      ],
      "execution_count": null,
      "outputs": []
    },
    {
      "cell_type": "markdown",
      "metadata": {
        "id": "unnzWyL_Co8t"
      },
      "source": [
        "##Create Strings using Template Literals\n",
        "\n",
        "A new feature of ES6 is the template literal. This is a special type of string that makes creating complex strings easier.\n",
        "\n",
        "Template literals allow you to create multi-line strings and to use string interpolation features to create strings.\n"
      ]
    },
    {
      "cell_type": "code",
      "metadata": {
        "id": "q2Nb1AXCX5n3"
      },
      "source": [
        "%%javascript\n",
        "\n",
        "const result = {\n",
        "  success: [\"max-length\", \"no-amd\", \"prefer-arrow-functions\"],\n",
        "  failure: [\"no-var\", \"var-on-top\", \"linebreak\"],\n",
        "  skipped: [\"no-extra-semi\", \"no-dup-keys\"]\n",
        "};\n",
        "function makeList(arr) {\n",
        "  // Only change code below this line\n",
        "  const failureItems = [];\n",
        "  for (let i = 0; i < arr.length; i++) {\n",
        "    failureItems.push(`<li class=\"text-warning\">${arr[i]}</li>`); \n",
        "  }\n",
        "  // Only change code above this line\n",
        "\n",
        "  return failureItems;\n",
        "}\n",
        "\n",
        "const failuresList = makeList(result.failure);"
      ],
      "execution_count": null,
      "outputs": []
    },
    {
      "cell_type": "markdown",
      "metadata": {
        "id": "bIAMCVAoFPM6"
      },
      "source": [
        "##Write Concise Object Literal Declarations Using Object Property Shorthand\n",
        "\n",
        "ES6 adds some nice support for easily defining object literals.\n",
        "\n",
        "\n",
        "\n"
      ]
    },
    {
      "cell_type": "code",
      "metadata": {
        "id": "jAzMONgbGcLe"
      },
      "source": [
        "%%javascript\n",
        "\n",
        "const createPerson = (name, age, gender) => {\n",
        "  // Only change code below this line\n",
        "  return {\n",
        "    name: name,\n",
        "    age: age,\n",
        "    gender: gender\n",
        "  };\n",
        "  // Only change code above this line\n",
        "};"
      ],
      "execution_count": null,
      "outputs": []
    },
    {
      "cell_type": "code",
      "metadata": {
        "id": "073Y-oaYX5sr"
      },
      "source": [
        "%%javascript\n",
        "//Object Literal Shorthand\n",
        "const createPerson = (name, age, gender) => {\n",
        "  // Only change code below this line\n",
        "  return {name, age, gender};\n",
        "  // Only change code above this line\n",
        "};"
      ],
      "execution_count": null,
      "outputs": []
    },
    {
      "cell_type": "markdown",
      "metadata": {
        "id": "DP_mMlKWGl-k"
      },
      "source": [
        "##Write Concise Declarative Functions with ES6\n",
        "\n",
        "When defining functions within objects in ES5, we have to use the keyword function. \n",
        "\n",
        "With ES6, you can remove the function keyword and colon altogether when defining functions in objects. Here's an example of this syntax\n",
        "\n"
      ]
    },
    {
      "cell_type": "code",
      "metadata": {
        "id": "9gkMlQYDG7Ps"
      },
      "source": [
        "%%javascript\n",
        "// Only change code below this line\n",
        "const bicycle = {\n",
        "  gear: 2,\n",
        "  setGear: function(newGear) {\n",
        "    this.gear = newGear;\n",
        "  }\n",
        "};\n",
        "// Only change code above this line\n",
        "bicycle.setGear(3);\n",
        "console.log(bicycle.gear);"
      ],
      "execution_count": null,
      "outputs": []
    },
    {
      "cell_type": "code",
      "metadata": {
        "id": "TkfWoZSJX5w5"
      },
      "source": [
        "%%javascript\n",
        "// Only change code below this line\n",
        "const bicycle = {\n",
        "  gear: 2,\n",
        "\n",
        "  // function removed for conciseness\n",
        "  setGear(newGear) {\n",
        "    this.gear = newGear;\n",
        "  }\n",
        "};\n",
        "// Only change code above this line\n",
        "bicycle.setGear(3);\n",
        "console.log(bicycle.gear);"
      ],
      "execution_count": null,
      "outputs": []
    },
    {
      "cell_type": "markdown",
      "metadata": {
        "id": "ztuwwQbJHe8q"
      },
      "source": [
        "## Use class Syntax to Define a Constructor Function\n",
        "\n",
        "ES6 provides a new syntax to create objects, using the class keyword.\n",
        "\n",
        "It should be noted that the class syntax is just syntax, and not a full-fledged class-based implementation of an object-oriented paradigm, unlike in languages such as Java, Python, Ruby, etc.\n",
        "\n",
        "It should be noted that the class keyword declares a new function, to which a constructor is added.\n",
        "\n",
        "The constructor method is a special method for creating and initializing an object created with a class. \n"
      ]
    },
    {
      "cell_type": "code",
      "metadata": {
        "colab": {
          "base_uri": "https://localhost:8080/",
          "height": 17
        },
        "id": "0ujpJaF0X52p",
        "outputId": "5e5ce456-9fef-4be3-f8ed-72c91e53a6f0"
      },
      "source": [
        "%%javascript\n",
        "\n",
        "// Only change code below this line\n",
        "class Vegetable {\n",
        "  constructor (name) {\n",
        "    this.name=name;\n",
        "  }\n",
        "}\n",
        "// Only change code above this line\n",
        "\n",
        "const carrot = new Vegetable('carrot');\n",
        "console.log(carrot.name); //carrot"
      ],
      "execution_count": 9,
      "outputs": [
        {
          "output_type": "display_data",
          "data": {
            "application/javascript": [
              "\n",
              "// Only change code below this line\n",
              "class Vegetable {\n",
              "  constructor (name) {\n",
              "    this.name=name;\n",
              "  }\n",
              "}\n",
              "// Only change code above this line\n",
              "\n",
              "const carrot = new Vegetable('carrot');\n",
              "console.log(carrot.name); //carrot"
            ],
            "text/plain": [
              "<IPython.core.display.Javascript object>"
            ]
          },
          "metadata": {}
        }
      ]
    },
    {
      "cell_type": "markdown",
      "metadata": {
        "id": "jWgmb94SIsmk"
      },
      "source": [
        "##Use getters and setters to Control Access to an Object\n",
        "\n",
        "You can obtain values from an object and set the value of a property within an object.\n",
        "\n",
        "These are classically called getters and setters.\n",
        "\n",
        "Getter functions are meant to simply return (get) the value of an object's private variable to the user without the user directly accessing the private variable.\n",
        "\n",
        "Setter functions are meant to modify (set) the value of an object's private variable based on the value passed into the setter function. \n",
        "\n"
      ]
    },
    {
      "cell_type": "code",
      "metadata": {
        "id": "CecRGWlBHbZK"
      },
      "source": [
        "%%javascript"
      ],
      "execution_count": null,
      "outputs": []
    },
    {
      "cell_type": "code",
      "metadata": {
        "id": "xdP7H7X8Hbe1"
      },
      "source": [
        "%%javascript"
      ],
      "execution_count": null,
      "outputs": []
    },
    {
      "cell_type": "code",
      "metadata": {
        "id": "jqVgvTi-HbjB"
      },
      "source": [
        "%%javascript"
      ],
      "execution_count": null,
      "outputs": []
    },
    {
      "cell_type": "code",
      "metadata": {
        "id": "I8Y7QGTgHbnf"
      },
      "source": [
        "%%javascript"
      ],
      "execution_count": null,
      "outputs": []
    },
    {
      "cell_type": "code",
      "metadata": {
        "id": "FvWevKNAHbsT"
      },
      "source": [
        "%%javascript"
      ],
      "execution_count": null,
      "outputs": []
    },
    {
      "cell_type": "code",
      "metadata": {
        "id": "Mhji4VNHHbxW"
      },
      "source": [
        "%%javascript"
      ],
      "execution_count": null,
      "outputs": []
    },
    {
      "cell_type": "code",
      "metadata": {
        "id": "LJoylICSHb25"
      },
      "source": [
        "%%javascript"
      ],
      "execution_count": null,
      "outputs": []
    }
  ]
}